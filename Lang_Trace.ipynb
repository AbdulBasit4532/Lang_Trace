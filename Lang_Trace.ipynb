{
  "nbformat": 4,
  "nbformat_minor": 0,
  "metadata": {
    "colab": {
      "provenance": []
    },
    "kernelspec": {
      "name": "python3",
      "display_name": "Python 3"
    },
    "language_info": {
      "name": "python"
    }
  },
  "cells": [
    {
      "cell_type": "code",
      "execution_count": null,
      "metadata": {
        "colab": {
          "base_uri": "https://localhost:8080/"
        },
        "id": "egFov9mSVKfi",
        "outputId": "14fdf680-f3f4-4f68-a4cb-bc145cfdece2"
      },
      "outputs": [
        {
          "output_type": "stream",
          "name": "stderr",
          "text": [
            "[nltk_data] Downloading package swadesh to /root/nltk_data...\n",
            "[nltk_data]   Package swadesh is already up-to-date!\n",
            "[nltk_data] Downloading package stopwords to /root/nltk_data...\n",
            "[nltk_data]   Package stopwords is already up-to-date!\n",
            "[nltk_data] Downloading package words to /root/nltk_data...\n",
            "[nltk_data]   Package words is already up-to-date!\n",
            "[nltk_data] Downloading package punkt_tab to /root/nltk_data...\n",
            "[nltk_data]   Unzipping tokenizers/punkt_tab.zip.\n"
          ]
        },
        {
          "output_type": "execute_result",
          "data": {
            "text/plain": [
              "True"
            ]
          },
          "metadata": {},
          "execution_count": 22
        }
      ],
      "source": [
        "import nltk\n",
        "nltk.download('swadesh')\n",
        "nltk.download('stopwords')\n",
        "nltk.download('words')\n",
        "nltk.download('punkt_tab')"
      ]
    },
    {
      "cell_type": "code",
      "source": [
        "from nltk.corpus import swadesh\n",
        "from nltk.tokenize import word_tokenize\n",
        "from nltk.corpus import stopwords\n",
        "from string import punctuation\n",
        "\n",
        "                                                                                # Building core words dictionary for english, french, spanish ,german\n",
        "                                                                                #   portugese, russian\n",
        "langs = {\n",
        "    'English':   [w.lower() for w in swadesh.words('en')],\n",
        "    'Spanish':   [w.lower() for w in swadesh.words('es')],\n",
        "    'French':    [w.lower() for w in swadesh.words('fr')],\n",
        "    'German':    [w.lower() for w in swadesh.words('de')],\n",
        "    'Russian':   [w.lower() for w in swadesh.words('ru')],\n",
        "    'Portuguese':[w.lower() for w in swadesh.words('pt')],\n",
        "}\n",
        "\n",
        "test_str = input(\"Enter a sentence: \")                                          #User Input Sentence\n",
        "\n",
        "tokens   = [t.lower() for t in word_tokenize(test_str)]                         # Tokenizing test string\n",
        "\n",
        "                                                                                # Scoring on basis of tokens matched with language dictionary\n",
        "scores = {}\n",
        "for i, vocab in langs.items():\n",
        "    scores[i] = sum(1 for t in tokens if t in vocab)\n",
        "\n",
        "print(i,scores)                                                                 #Picking language with the highest score\n",
        "best_lang, best_score = max(scores.items(), key=lambda x: x[1])\n",
        "if best_score > 0:\n",
        "    print(f\"Detected language: {best_lang} \")\n",
        "else:\n",
        "    print(\"No clear match found in any core vocabulary.\")\n"
      ],
      "metadata": {
        "colab": {
          "base_uri": "https://localhost:8080/"
        },
        "id": "hedAvXFcWyzg",
        "outputId": "4244f76d-4bb2-494c-da72-92384b4bcd9a"
      },
      "execution_count": 65,
      "outputs": [
        {
          "output_type": "stream",
          "name": "stdout",
          "text": [
            "Enter a sentence: Das klingt großartig! Mit Freunden in einer freundlichen Umgebung zu arbeiten, macht den Tag viel angenehmer. Was genau arbeitet ihr montags zusammen im Büro\n",
            "Portuguese {'English': 1, 'Spanish': 0, 'French': 0, 'German': 4, 'Russian': 0, 'Portuguese': 0}\n",
            "Detected language: German \n"
          ]
        }
      ]
    }
  ]
}